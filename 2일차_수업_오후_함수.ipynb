{
  "nbformat": 4,
  "nbformat_minor": 0,
  "metadata": {
    "celltoolbar": "Edit Metadata",
    "kernelspec": {
      "display_name": "Python 3",
      "language": "python",
      "name": "python3"
    },
    "language_info": {
      "codemirror_mode": {
        "name": "ipython",
        "version": 3
      },
      "file_extension": ".py",
      "mimetype": "text/x-python",
      "name": "python",
      "nbconvert_exporter": "python",
      "pygments_lexer": "ipython3",
      "version": "3.8.3"
    },
    "colab": {
      "name": "2일차_수업_오후-함수.ipynb",
      "provenance": [],
      "collapsed_sections": [],
      "include_colab_link": true
    }
  },
  "cells": [
    {
      "cell_type": "markdown",
      "metadata": {
        "id": "view-in-github",
        "colab_type": "text"
      },
      "source": [
        "<a href=\"https://colab.research.google.com/github/onlookertozip/AImlStudy/blob/main/2%EC%9D%BC%EC%B0%A8_%EC%88%98%EC%97%85_%EC%98%A4%ED%9B%84_%ED%95%A8%EC%88%98.ipynb\" target=\"_parent\"><img src=\"https://colab.research.google.com/assets/colab-badge.svg\" alt=\"Open In Colab\"/></a>"
      ]
    },
    {
      "cell_type": "markdown",
      "metadata": {
        "school_cell_uuid": "fa686eec1a894ad385be2fffde92ef7a",
        "id": "MnxqQyQTbQ4K"
      },
      "source": [
        "# 파이썬 함수"
      ]
    },
    {
      "cell_type": "markdown",
      "metadata": {
        "id": "WeyPoaMObQ4Q"
      },
      "source": [
        "```{margin}\n",
        "함수(function)\n",
        "```"
      ]
    },
    {
      "cell_type": "markdown",
      "metadata": {
        "school_cell_uuid": "7fe1967d5ebe47f88a53beee3006d20c",
        "id": "uDnpXGA1bQ4R"
      },
      "source": [
        "함수(function)는 입력을 받아 그 입력에 해당하는 출력을 반환(return)하는 기계와 같다. 예를 들어 500원을 넣으면 생수가 나오고, 1000원을 넣으면 콜라가 나오는 자판기는 다음과 같은 함수이다.\n",
        "\n",
        "```\n",
        "f(500) = \"생수\"\n",
        "f(1000) = \"콜라\"\n",
        "```"
      ]
    },
    {
      "cell_type": "markdown",
      "metadata": {
        "id": "elWU0johbQ4R"
      },
      "source": [
        "```{margin}\n",
        "`def`\n",
        "```"
      ]
    },
    {
      "cell_type": "markdown",
      "metadata": {
        "id": "tUkD2RMQbQ4R"
      },
      "source": [
        "```{margin}\n",
        "`return`\n",
        "```"
      ]
    },
    {
      "cell_type": "markdown",
      "metadata": {
        "school_cell_uuid": "f49603cc23474f8689a409a2f09463f8",
        "id": "Fh5BGVS0bQ4S"
      },
      "source": [
        "파이썬에는 `def` 키워드와 `return` 키워드를 사용하여 다음과 같이 함수를 만들 수 있다. 파이썬에는 `def` 키워드와 `return` 키워드를 사용하여 다음과 같이 함수를 만들 수 있다\n",
        "\n",
        "```\n",
        "def 함수이름(입력변수이름):\n",
        "   출력변수를 만드는 명령\n",
        "   return 출력변수이름\n",
        "   \n",
        "```"
      ]
    },
    {
      "cell_type": "markdown",
      "metadata": {
        "school_cell_uuid": "6ad5d5067fb64e10aa55ebc0ba4156c8",
        "id": "V6-JjywJbQ4S"
      },
      "source": [
        "예를 들어 숫자 x를 입력하면 두 배가 되도록 하는 함수는 다음과 같다."
      ]
    },
    {
      "cell_type": "code",
      "metadata": {
        "school_cell_uuid": "33da0cf9c0ba469a8259f6292e35ed8b",
        "id": "y9SekHmvbQ4S"
      },
      "source": [
        "def twotimes(x):\n",
        "    y = 2 * x\n",
        "    return y"
      ],
      "execution_count": null,
      "outputs": []
    },
    {
      "cell_type": "markdown",
      "metadata": {
        "school_cell_uuid": "a2c4f5ae32d0466a9743a8f4c41989b3",
        "id": "sqStYVkSbQ4T"
      },
      "source": [
        "이렇게 만들어진 함수를 사용하려면 함수 이름과 그 뒤에 괄호로 싸인 입력값을 넣으면 된다."
      ]
    },
    {
      "cell_type": "code",
      "metadata": {
        "school_cell_uuid": "7ee2500e23db453b8a22136fb5edf628",
        "id": "9MoAIg_lbQ4T",
        "outputId": "ee17a65b-cda8-475d-bf86-938058b33321"
      },
      "source": [
        "twotimes(2)"
      ],
      "execution_count": null,
      "outputs": [
        {
          "output_type": "execute_result",
          "data": {
            "text/plain": [
              "4"
            ]
          },
          "metadata": {
            "tags": []
          },
          "execution_count": 2
        }
      ]
    },
    {
      "cell_type": "code",
      "metadata": {
        "school_cell_uuid": "d32cb2b891584430b49d8da8c9f31f00",
        "id": "g-hEAW-5bQ4U",
        "outputId": "2d5289f6-49fd-40b1-de68-32e08c38383c"
      },
      "source": [
        "twotimes(10)"
      ],
      "execution_count": null,
      "outputs": [
        {
          "output_type": "execute_result",
          "data": {
            "text/plain": [
              "20"
            ]
          },
          "metadata": {
            "tags": []
          },
          "execution_count": 3
        }
      ]
    },
    {
      "cell_type": "markdown",
      "metadata": {
        "school_cell_uuid": "e549eeedec2547e782ec484b508855da",
        "id": "RG-KkoCybQ4V"
      },
      "source": [
        "## 입력이 여러 개인 함수"
      ]
    },
    {
      "cell_type": "markdown",
      "metadata": {
        "school_cell_uuid": "13b44269a39744e9a43393e1aff63e6b",
        "id": "qTMI2xS-bQ4V"
      },
      "source": [
        "함수의 입력은 한 개가 아니라 여러 개가 되어도 상관없다. 입력 변수가 여러개이면 쉼표, 영어로 comma 를 사용하여 함수를 정의한다. 입력 변수는 원하는 만큼 얼마든지 만들 수 있다.\n",
        "\n",
        "```\n",
        "def 함수이름(입력변수1, 입력변수2, 입력변수3):\n",
        "   출력변수를 만드는 명령\n",
        "   return 출력변수이름\n",
        "```"
      ]
    },
    {
      "cell_type": "code",
      "metadata": {
        "school_cell_uuid": "42c845dfff8941aebe90f6f206c283cc",
        "id": "_3nKnC0ubQ4W"
      },
      "source": [
        "def add(x, y):\n",
        "    return x + y"
      ],
      "execution_count": null,
      "outputs": []
    },
    {
      "cell_type": "code",
      "metadata": {
        "school_cell_uuid": "16ff374bf9a94520bed4218c6b27a4b7",
        "id": "qQ6Y5A9AbQ4W",
        "outputId": "b7d06efd-c2af-4d28-c766-eae273277321"
      },
      "source": [
        "add(1, 2)"
      ],
      "execution_count": null,
      "outputs": [
        {
          "output_type": "execute_result",
          "data": {
            "text/plain": [
              "3"
            ]
          },
          "metadata": {
            "tags": []
          },
          "execution_count": 5
        }
      ]
    },
    {
      "cell_type": "code",
      "metadata": {
        "school_cell_uuid": "f057db3e43ad45f9967037dcd4d888b0",
        "id": "-u4kuKY8bQ4W"
      },
      "source": [
        "def sum(a, b, c):\n",
        "    s = a + b + c\n",
        "    return s"
      ],
      "execution_count": null,
      "outputs": []
    },
    {
      "cell_type": "code",
      "metadata": {
        "school_cell_uuid": "b4bb5b23dcd246baa29eb5eac504de5e",
        "id": "QnkQBfPabQ4X",
        "outputId": "e71b66f4-002c-4c41-c1c1-362bdf9fa520"
      },
      "source": [
        "sum(1, 2, 3)"
      ],
      "execution_count": null,
      "outputs": [
        {
          "output_type": "execute_result",
          "data": {
            "text/plain": [
              "6"
            ]
          },
          "metadata": {
            "tags": []
          },
          "execution_count": 7
        }
      ]
    },
    {
      "cell_type": "markdown",
      "metadata": {
        "school_cell_uuid": "deb0e1b80dfb4fe686aa605e86407afa",
        "id": "hBnGqShibQ4X"
      },
      "source": [
        "## 람다 함수"
      ]
    },
    {
      "cell_type": "markdown",
      "metadata": {
        "id": "CEdPrH_WbQ4Y"
      },
      "source": [
        "```{margin}\n",
        "람다 함수(lambda function)\n",
        "```"
      ]
    },
    {
      "cell_type": "markdown",
      "metadata": {
        "school_cell_uuid": "3b30d929dd8e4100936c013daad7b626",
        "id": "AOJRjgYAbQ4Y"
      },
      "source": [
        "함수에 이름을 주지 않거나 코드를 짧게 줄여쓰는 방법으로 람다(lambda)함수라는 것이 있다.  예를 들어 다음 함수 `f`는"
      ]
    },
    {
      "cell_type": "code",
      "metadata": {
        "school_cell_uuid": "14371eacf4f24a44b2ef36ac29209cbc",
        "id": "Cj6Mb9g5bQ4Y"
      },
      "source": [
        "def f(x):\n",
        "    return 2 * x"
      ],
      "execution_count": null,
      "outputs": []
    },
    {
      "cell_type": "markdown",
      "metadata": {
        "school_cell_uuid": "21b889be49574ab8a93ebb12fa0c7aab",
        "id": "4b3zT4g0bQ4Z"
      },
      "source": [
        "람다 함수로 정의하면 다음과 같다."
      ]
    },
    {
      "cell_type": "code",
      "metadata": {
        "school_cell_uuid": "c77cd4a11a5f467ca88740320d4e4dec",
        "id": "gv6wAvRwbQ4Z"
      },
      "source": [
        "f = lambda x : 2 * x"
      ],
      "execution_count": null,
      "outputs": []
    },
    {
      "cell_type": "code",
      "metadata": {
        "school_cell_uuid": "b37a90a3209045ce927ec5a6559c4d33",
        "id": "JZyjrrbebQ4Z",
        "outputId": "144f7fc5-2861-411e-8350-f4ed91e76151"
      },
      "source": [
        "f(2)"
      ],
      "execution_count": null,
      "outputs": [
        {
          "output_type": "execute_result",
          "data": {
            "text/plain": [
              "4"
            ]
          },
          "metadata": {
            "tags": []
          },
          "execution_count": 10
        }
      ]
    },
    {
      "cell_type": "markdown",
      "metadata": {
        "school_cell_uuid": "163d86bf39154f769722f5b47bb2fe45",
        "id": "uGi1Y8FPbQ4Z"
      },
      "source": [
        "람다 함수는 함수 자체를 다른 함수의 인수로 넣을 때, 함수의 출력값을 함수로 받을 때 유용하게 사용된다."
      ]
    },
    {
      "cell_type": "markdown",
      "metadata": {
        "school_cell_uuid": "739066b96c3b4502bb9c85fed633810e",
        "id": "N6AeLYrUbQ4Z"
      },
      "source": [
        "## 지역 변수"
      ]
    },
    {
      "cell_type": "markdown",
      "metadata": {
        "id": "9UuGfVtMbQ4a"
      },
      "source": [
        "```{margin}\n",
        "지역 변수(local variable)\n",
        "```"
      ]
    },
    {
      "cell_type": "markdown",
      "metadata": {
        "school_cell_uuid": "7e2038a1eb2b498fa706f5ddc7ddcd4c",
        "id": "2_2bqPvVbQ4a"
      },
      "source": [
        "함수에 넣은 입력 변수나 함수 안에서 만들어진 변수는 함수 바깥에서는 사용할 수 없다. 혹시 이름이 같은 변수가 있다고 하더라도 별개의 변수가 된다.\n",
        "\n",
        "따라서 함수 안에서 만들어지고 사용되는 함수를 지역 변수, 영어로 local variable 이라고 한다."
      ]
    },
    {
      "cell_type": "markdown",
      "metadata": {
        "school_cell_uuid": "ccb104538cfc4efbb87b18ba4bb47810",
        "id": "giVRZ39DbQ4a"
      },
      "source": [
        "실제로 확인해 보자. 일단 함수 바깥에 혹시라도 y라는 변수가 있으면 `del` 명령으로 지운다."
      ]
    },
    {
      "cell_type": "code",
      "metadata": {
        "school_cell_uuid": "ef4050eea7eb4716ad3a9112bc21b83b",
        "id": "b3BWolmYbQ4a",
        "outputId": "5b4b4800-c17c-421e-d878-c0418deb2453"
      },
      "source": [
        "del y"
      ],
      "execution_count": null,
      "outputs": [
        {
          "output_type": "error",
          "ename": "NameError",
          "evalue": "name 'y' is not defined",
          "traceback": [
            "\u001b[0;31m---------------------------------------------------------------------------\u001b[0m",
            "\u001b[0;31mNameError\u001b[0m                                 Traceback (most recent call last)",
            "\u001b[0;32m<ipython-input-11-aa8f3401fc42>\u001b[0m in \u001b[0;36m<module>\u001b[0;34m\u001b[0m\n\u001b[0;32m----> 1\u001b[0;31m \u001b[0;32mdel\u001b[0m \u001b[0my\u001b[0m\u001b[0;34m\u001b[0m\u001b[0;34m\u001b[0m\u001b[0m\n\u001b[0m",
            "\u001b[0;31mNameError\u001b[0m: name 'y' is not defined"
          ]
        }
      ]
    },
    {
      "cell_type": "markdown",
      "metadata": {
        "school_cell_uuid": "d9a7eb1b5e794808af8d5ae50f12efff",
        "id": "Utewjz9AbQ4a"
      },
      "source": [
        "기존에 y라는 변수가 없었으면 그런 변수가 없다는 오류가 나온다. 만약 기존에 y라는 변수가 있었으면 오류가 출력되지 않고 지워지기만 한다"
      ]
    },
    {
      "cell_type": "markdown",
      "metadata": {
        "school_cell_uuid": "a88aecd458cb4e5193505893e605db7d",
        "id": "DuX4tqY4bQ4a"
      },
      "source": [
        "이제 다음과 같이 `y`라는 이름의 지역 변수를 가지는 함수를 만들고 실행시킨다."
      ]
    },
    {
      "cell_type": "code",
      "metadata": {
        "school_cell_uuid": "e31c3c5830e64029ab12b3d48be96360",
        "id": "_JxnaW8pbQ4b"
      },
      "source": [
        "def f(x):\n",
        "    y = 10 * x\n",
        "    print(\"y = \", y)\n",
        "    return y"
      ],
      "execution_count": null,
      "outputs": []
    },
    {
      "cell_type": "code",
      "metadata": {
        "school_cell_uuid": "2cf94f6ebc614385ab31eb96981366db",
        "id": "9GIz1pCtbQ4b",
        "outputId": "64ebb8ef-87e1-4dbf-a27f-ef76b7e6df0b"
      },
      "source": [
        "f(10)"
      ],
      "execution_count": null,
      "outputs": [
        {
          "output_type": "stream",
          "text": [
            "y =  100\n"
          ],
          "name": "stdout"
        },
        {
          "output_type": "execute_result",
          "data": {
            "text/plain": [
              "100"
            ]
          },
          "metadata": {
            "tags": []
          },
          "execution_count": 13
        }
      ]
    },
    {
      "cell_type": "markdown",
      "metadata": {
        "school_cell_uuid": "53a189d87ba4401b8549feb36125b52b",
        "id": "qW1DgVN3bQ4b"
      },
      "source": [
        "y라는 변수가 생겨났는지 다시 확인한다."
      ]
    },
    {
      "cell_type": "code",
      "metadata": {
        "school_cell_uuid": "4446be5b923242bb97dfbf19c0e70eaa",
        "id": "YeRIfvc5bQ4b",
        "outputId": "582610fb-d6e5-48e0-8a09-da23fa2df0a1"
      },
      "source": [
        "y"
      ],
      "execution_count": null,
      "outputs": [
        {
          "output_type": "error",
          "ename": "NameError",
          "evalue": "name 'y' is not defined",
          "traceback": [
            "\u001b[0;31m---------------------------------------------------------------------------\u001b[0m",
            "\u001b[0;31mNameError\u001b[0m                                 Traceback (most recent call last)",
            "\u001b[0;32m<ipython-input-14-9063a9f0e032>\u001b[0m in \u001b[0;36m<module>\u001b[0;34m\u001b[0m\n\u001b[0;32m----> 1\u001b[0;31m \u001b[0my\u001b[0m\u001b[0;34m\u001b[0m\u001b[0;34m\u001b[0m\u001b[0m\n\u001b[0m",
            "\u001b[0;31mNameError\u001b[0m: name 'y' is not defined"
          ]
        }
      ]
    },
    {
      "cell_type": "markdown",
      "metadata": {
        "school_cell_uuid": "40c765378d4a49cdbe27af4ae575f4a2",
        "id": "DOk2Qbi3bQ4c"
      },
      "source": [
        "함수 안에서 만든 y라는 변수는 함수 밖에는 생성되지 않았다.\n",
        "\n",
        "이번에는 함수 바깥에서 y라는 변수를 사용해 보자."
      ]
    },
    {
      "cell_type": "code",
      "metadata": {
        "school_cell_uuid": "e4fc061a5610498f8868acb4514ce40a",
        "id": "w9Yk9f7sbQ4c"
      },
      "source": [
        "y = 1000"
      ],
      "execution_count": null,
      "outputs": []
    },
    {
      "cell_type": "code",
      "metadata": {
        "school_cell_uuid": "4c2fa6e9cb1246959c01cf9d80c96360",
        "id": "pANZyMX8bQ4c",
        "outputId": "339334d5-6e84-4bd4-82bd-fe57730f6e0b"
      },
      "source": [
        "y"
      ],
      "execution_count": null,
      "outputs": [
        {
          "output_type": "execute_result",
          "data": {
            "text/plain": [
              "1000"
            ]
          },
          "metadata": {
            "tags": []
          },
          "execution_count": 16
        }
      ]
    },
    {
      "cell_type": "markdown",
      "metadata": {
        "school_cell_uuid": "63dd28419e5c428aabf64f434c961ec4",
        "id": "U3_foMqAbQ4c"
      },
      "source": [
        "이제 함수를 실행시킨다."
      ]
    },
    {
      "cell_type": "code",
      "metadata": {
        "school_cell_uuid": "8fdd4fded5bb44e3ae9a9db20d0e3f4b",
        "id": "u_YwN6AsbQ4c",
        "outputId": "9b7d46c2-effa-4053-c6e9-af23882fb3bd"
      },
      "source": [
        "f(1)"
      ],
      "execution_count": null,
      "outputs": [
        {
          "output_type": "stream",
          "text": [
            "y =  10\n"
          ],
          "name": "stdout"
        },
        {
          "output_type": "execute_result",
          "data": {
            "text/plain": [
              "10"
            ]
          },
          "metadata": {
            "tags": []
          },
          "execution_count": 17
        }
      ]
    },
    {
      "cell_type": "markdown",
      "metadata": {
        "school_cell_uuid": "8d72fa9a950642818ed1cef201836536",
        "id": "p8rJR5JjbQ4d"
      },
      "source": [
        "다시 바깥에서 y값을 확인하면 이전과 같다."
      ]
    },
    {
      "cell_type": "code",
      "metadata": {
        "school_cell_uuid": "101701410acd4bf39ab8dc2ede0e34dd",
        "id": "aZl5PB-SbQ4d",
        "outputId": "1ed76ea4-c595-4c8e-d892-95e1fa4d62a8"
      },
      "source": [
        "y"
      ],
      "execution_count": null,
      "outputs": [
        {
          "output_type": "execute_result",
          "data": {
            "text/plain": [
              "1000"
            ]
          },
          "metadata": {
            "tags": []
          },
          "execution_count": 18
        }
      ]
    },
    {
      "cell_type": "markdown",
      "metadata": {
        "school_cell_uuid": "fa5ebaf3ffeb4730b08d8769beb5d186",
        "id": "oe31l1XxbQ4d"
      },
      "source": [
        "즉, 함수 안에서 만들어지는 지역 변수는 함수 바깥에 아무런 영향을 주지 않는다."
      ]
    },
    {
      "cell_type": "markdown",
      "metadata": {
        "bootstrap": {
          "panel": {
            "class": "panel-default"
          }
        },
        "school_cell_uuid": "5ee82513f41d47eca3fdd0b1fd5f7a60",
        "id": "1cztNQP2bQ4d"
      },
      "source": [
        "```{admonition} 연습 문제 2.6.4\n",
        "\n",
        "3개의 숫자를 입력하면 \"그 숫자들의 합\"과 \"그 숫자들을 제곱한 숫자들의 합\"의 차이(큰 수에서 작을 수를 뺀 값)를 계산하는 함수 `diffsum`를 만든다. 큰 수에서 작은 수를 뺀 결과이므로 항상 0보다 크거나 0과 같아야 한다.\n",
        "```"
      ]
    },
    {
      "cell_type": "markdown",
      "metadata": {
        "school_cell_uuid": "1d9e3118f0b646018028b04ffb227db5",
        "id": "r0TttAyzbQ4d"
      },
      "source": [
        "## 전역 변수"
      ]
    },
    {
      "cell_type": "markdown",
      "metadata": {
        "id": "zgpeRuRybQ4e"
      },
      "source": [
        "```{margin}\n",
        "전역 변수(global variable)\n",
        "```"
      ]
    },
    {
      "cell_type": "markdown",
      "metadata": {
        "school_cell_uuid": "df0b9de97ed24b6fb8fe1c113575bf6c",
        "id": "Eu9oCfozbQ4e"
      },
      "source": [
        "하지만 지역 변수와 반대로 함수 바깥에서 만들어진 변수는 함수 안에서 사용할 수 있다. 이러한 변수를 전역 변수(global variable)이라고 한다."
      ]
    },
    {
      "cell_type": "code",
      "metadata": {
        "school_cell_uuid": "53cd74e812484171849329d83785df39",
        "id": "0jb_ZET0bQ4e"
      },
      "source": [
        "z = 3\n",
        "\n",
        "def f2(x):\n",
        "    y = z * x\n",
        "    print(\"y =\", y)\n",
        "    print(\"z =\", z)\n",
        "    return y"
      ],
      "execution_count": null,
      "outputs": []
    },
    {
      "cell_type": "code",
      "metadata": {
        "school_cell_uuid": "e39dbe640bd8451aa80b7ab4fcf90bfd",
        "id": "JdCWoFIsbQ4e",
        "outputId": "673c0364-2b36-433b-eee7-2923e55f232d"
      },
      "source": [
        "f2(10)"
      ],
      "execution_count": null,
      "outputs": [
        {
          "output_type": "stream",
          "text": [
            "y = 30\n",
            "z = 3\n"
          ],
          "name": "stdout"
        },
        {
          "output_type": "execute_result",
          "data": {
            "text/plain": [
              "30"
            ]
          },
          "metadata": {
            "tags": []
          },
          "execution_count": 20
        }
      ]
    },
    {
      "cell_type": "markdown",
      "metadata": {
        "school_cell_uuid": "0a46b6829f6f4fd898b22bdbeea05a83",
        "id": "I9PsV0dbbQ4f"
      },
      "source": [
        "다만, 이때 바깥의 변수와 같은 이름의 변수를 함수 안에 만들면 안 된다. 만약 바깥의 변수와 같은 이름의 변수를 함수 안에 다시 만들면 함수 안에서는 그 지역 변수를 사용하다가 함수 바깥으로 나오면 지역 변수는 사라지고 원래의 변숫값으로 되돌아온다.\n",
        "따라서 함수 안에서는 함수 바깥에 있는 변수의 값을 바꿀 수 없다."
      ]
    },
    {
      "cell_type": "code",
      "metadata": {
        "school_cell_uuid": "11196631d96c4a5399cb975e12aa56ef",
        "id": "CBjtF1wlbQ4f"
      },
      "source": [
        "z = 3\n",
        "\n",
        "def f3(x):\n",
        "    z = 99\n",
        "    y = z * x\n",
        "    print(\"y =\", y)\n",
        "    print(\"z =\", z)\n",
        "    return y"
      ],
      "execution_count": null,
      "outputs": []
    },
    {
      "cell_type": "code",
      "metadata": {
        "school_cell_uuid": "7c63ea75fbbd4ec2b6d13005f15373bd",
        "id": "ayKZ-srvbQ4f",
        "outputId": "b59ee921-46cf-4342-caa5-f809c0e28960"
      },
      "source": [
        "f3(10)"
      ],
      "execution_count": null,
      "outputs": [
        {
          "output_type": "stream",
          "text": [
            "y = 990\n",
            "z = 99\n"
          ],
          "name": "stdout"
        },
        {
          "output_type": "execute_result",
          "data": {
            "text/plain": [
              "990"
            ]
          },
          "metadata": {
            "tags": []
          },
          "execution_count": 22
        }
      ]
    },
    {
      "cell_type": "markdown",
      "metadata": {
        "school_cell_uuid": "3564decb9d20462d88407a9640671bc9",
        "id": "Lg4A9nTDbQ4f"
      },
      "source": [
        "함수 바깥에서는 z가 여전히 3이다."
      ]
    },
    {
      "cell_type": "code",
      "metadata": {
        "school_cell_uuid": "f01f9028d41146178673e5a0ddffe22a",
        "id": "7HOfw8AZbQ4f",
        "outputId": "cb7aa1a6-7623-469b-c5c2-a80f5eeee44c"
      },
      "source": [
        "z"
      ],
      "execution_count": null,
      "outputs": [
        {
          "output_type": "execute_result",
          "data": {
            "text/plain": [
              "3"
            ]
          },
          "metadata": {
            "tags": []
          },
          "execution_count": 23
        }
      ]
    },
    {
      "cell_type": "markdown",
      "metadata": {
        "id": "vmOUHSecbQ4g"
      },
      "source": [
        "```{margin}\n",
        "`global`\n",
        "```"
      ]
    },
    {
      "cell_type": "markdown",
      "metadata": {
        "school_cell_uuid": "78cb4827c183444fbd1af32c0e358ea9",
        "id": "M7jD6CbxbQ4g"
      },
      "source": [
        "만약 함수안에서 함수 바깥에 있는 변수의 값을 꼭 바꿔야만 한다면 다음과 같이 함수 이름 앞에 `global` 키워드를 선언해 주면 된다."
      ]
    },
    {
      "cell_type": "code",
      "metadata": {
        "school_cell_uuid": "074df8e8c2374419a9ef9d9718e046c8",
        "id": "_CuSc_ihbQ4g"
      },
      "source": [
        "z = 3\n",
        "\n",
        "def f4(x):\n",
        "    global z\n",
        "    z = 99\n",
        "    y = z * x\n",
        "    print(\"y =\", y)\n",
        "    print(\"z =\", z)\n",
        "    return y"
      ],
      "execution_count": null,
      "outputs": []
    },
    {
      "cell_type": "code",
      "metadata": {
        "school_cell_uuid": "3c1686d15c3c41cfb84e73f101d1add0",
        "id": "ciygEPuXbQ4g",
        "outputId": "729c2f51-5007-4867-dd0f-e6b258a7d0c2"
      },
      "source": [
        "f4(10)"
      ],
      "execution_count": null,
      "outputs": [
        {
          "output_type": "stream",
          "text": [
            "y = 990\n",
            "z = 99\n"
          ],
          "name": "stdout"
        },
        {
          "output_type": "execute_result",
          "data": {
            "text/plain": [
              "990"
            ]
          },
          "metadata": {
            "tags": []
          },
          "execution_count": 25
        }
      ]
    },
    {
      "cell_type": "code",
      "metadata": {
        "school_cell_uuid": "a08935c52e7c4dc08587d32045b4c11f",
        "id": "_CxjOrGwbQ4g",
        "outputId": "a3d60cea-b544-4301-8d3f-486c3a373e8e"
      },
      "source": [
        "z"
      ],
      "execution_count": null,
      "outputs": [
        {
          "output_type": "execute_result",
          "data": {
            "text/plain": [
              "99"
            ]
          },
          "metadata": {
            "tags": []
          },
          "execution_count": 26
        }
      ]
    },
    {
      "cell_type": "markdown",
      "metadata": {
        "school_cell_uuid": "91fdfaffd25148069dfd176e707cbd46",
        "id": "vmUk6au0bQ4h"
      },
      "source": [
        "함수 바깥의 z 값이 99로 바뀌어 있는 것을 확인할 수 있다."
      ]
    },
    {
      "cell_type": "code",
      "metadata": {
        "id": "1PTrmV9MbQ4h"
      },
      "source": [
        ""
      ],
      "execution_count": null,
      "outputs": []
    }
  ]
}